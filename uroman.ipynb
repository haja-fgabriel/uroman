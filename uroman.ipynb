{
 "cells": [
  {
   "cell_type": "markdown",
   "id": "48984539",
   "metadata": {},
   "source": [
    "###  _uroman_ package examples\n",
    "by Ulf Hermjakob, June 28, 2024 (uroman version 1.3.1.1)"
   ]
  },
  {
   "cell_type": "code",
   "execution_count": 2,
   "id": "32ebed06",
   "metadata": {},
   "outputs": [],
   "source": [
    "# pip install uroman\n",
    "\n",
    "import uroman as ur\n",
    "\n",
    "# load uroman data (once at the beginning)\n",
    "uroman = ur.Uroman()"
   ]
  },
  {
   "cell_type": "code",
   "execution_count": 3,
   "id": "ee63bead",
   "metadata": {},
   "outputs": [
    {
     "name": "stdout",
     "output_type": "stream",
     "text": [
      "Νεπάλ Nepal\n",
      "नेपाल nepaal\n",
      "نیپال nipal\n",
      "三万一 31000\n"
     ]
    }
   ],
   "source": [
    "# Romanizing strings from different scripts\n",
    "\n",
    "for s in ('Νεπάλ', 'नेपाल', 'نیپال', '三万一'):\n",
    "    print(s, uroman.romanize_string(s))"
   ]
  },
  {
   "cell_type": "code",
   "execution_count": 4,
   "id": "2e3444fd",
   "metadata": {},
   "outputs": [
    {
     "name": "stdout",
     "output_type": "stream",
     "text": [
      "Игорь rus Igor\n",
      "Игорь ukr Yhor\n",
      "Игорь None Igor\n"
     ]
    }
   ],
   "source": [
    "# Romanizing a string using different language codes\n",
    "\n",
    "s = 'Игорь'\n",
    "for lang_code in ('rus', 'ukr', None):\n",
    "    print(s, lang_code, uroman.romanize_string(s, lcode=lang_code))"
   ]
  },
  {
   "cell_type": "code",
   "execution_count": 5,
   "id": "a47a1c3a",
   "metadata": {},
   "outputs": [
    {
     "name": "stdout",
     "output_type": "stream",
     "text": [
      "Input string:\n",
      "ایران\n",
      "\n",
      "Output format: str\n",
      "iran\n",
      "\n",
      "Output format: edges\n",
      "[[0, 2, \"i\", \"rom\"][2, 3, \"r\", \"rom\"][3, 4, \"a\", \"rom\"][4, 5, \"n\", \"rom\"]]\n",
      "\n",
      "Output format: alts\n",
      "[[0, 2, \"i\", \"rom\"][0, 2, \"ai\", \"rom-alt\"][2, 3, \"r\", \"rom\"][3, 4, \"a\", \"rom\"][4, 5, \"n\", \"rom\"]]\n",
      "\n",
      "Output format: lattice\n",
      "[[0, 2, \"i\", \"rom\"][0, 2, \"ai\", \"rom-alt\"][0, 1, \"a\", \"rom\"][1, 2, \"i\", \"rom\"][1, 2, \"y\", \"rom-alt\"][2, 3, \"r\", \"rom\"][3, 4, \"a\", \"rom\"][4, 5, \"n\", \"rom\"]]\n",
      "\n"
     ]
    }
   ],
   "source": [
    "# Romanizing a string in different output formats (string, JSONL)\n",
    "\n",
    "import sys\n",
    "\n",
    "s = 'ایران'\n",
    "lcode = 'fas'\n",
    "\n",
    "input_filename = 'in.txt'\n",
    "with open(input_filename, 'w') as f: \n",
    "    f.write(s + '\\n')\n",
    "print(f\"Input string:\\n{s}\\n\")\n",
    "    \n",
    "format_output_list = ((ur.RomFormat.STR,     'str.txt'), \n",
    "                      (ur.RomFormat.EDGES,   'edges.jsonl'), \n",
    "                      (ur.RomFormat.ALTS,    'alts.jsonl'), \n",
    "                      (ur.RomFormat.LATTICE, 'lattice.jsonl'))\n",
    "\n",
    "for rom_format, output_filename in format_output_list:\n",
    "    uroman.romanize_file(input_filename=input_filename, \n",
    "                         output_filename=output_filename, \n",
    "                         lcode=lcode,\n",
    "                         rom_format=rom_format)\n",
    "    with open(output_filename) as f:\n",
    "        sys.stdout.write(f\"Output format: {rom_format}\\n{f.read()}\\n\")        "
   ]
  },
  {
   "cell_type": "code",
   "execution_count": 7,
   "id": "b47a308c",
   "metadata": {
    "scrolled": true
   },
   "outputs": [
    {
     "name": "stdout",
     "output_type": "stream",
     "text": [
      "::lcode deu Grüße aus Bordeaux\n",
      "::lcode tur İstanbul, Türkiye'de yer alan şehir ve ülkenin 81 ilinden biri.\n",
      "::lcode eng ⠠⠺⠑⠀⠓⠕⠇⠙⠀⠘⠮⠀⠞⠗⠥⠹⠎⠀⠞⠕⠀⠆⠀⠎⠑⠇⠋⠤⠑⠧⠊⠙⠢⠞⠂⠀⠞⠀⠁⠇⠇⠀⠍⠑⠝⠀⠜⠑⠀⠉⠗⠂⠞⠫⠀⠑⠟⠥⠁⠇⠂⠀⠞⠀⠮⠽⠀⠜⠑⠀⠑⠝⠙⠪⠫⠀⠃⠽⠀⠸⠮⠀⠠⠉⠗⠑⠁⠞⠕⠗⠀⠾⠀⠉⠻⠞⠁⠔⠀⠥⠝⠁⠇⠊⠑⠝⠁⠃⠇⠑⠀⠠⠐⠗⠎⠂⠀⠞⠀⠁⠍⠰⠛⠀⠘⠮⠀⠜⠑⠀⠠⠇⠊⠋⠑⠂⠀⠠⠇⠊⠃⠻⠞⠽⠀⠯⠀⠮⠀⠏⠥⠗⠎⠥⠊⠞⠀⠷⠀⠠⠓⠁⠏⠏⠊⠰⠎⠲\n",
      "::lcode ell Το Λος Άντζελες (στα ισπανικά Los Angeles = Οι Άγγελοι) ή στην Αμερικανική αργκό L.A., ελ έι) είναι η δεύτερη μεγαλύτερη πόλη των Ηνωμένων Πολιτειών από άποψη πληθυσμού, καθώς και ένα από τα σημαντικότερα οικονομικά, πολιτιστικά επιστημονικά και ψυχαγωγικά κέντρα του κόσμου.\n",
      "::lcode rus Герма́ния (нем. Deutschland), официальное название — Федерати́вная Респу́блика Герма́ния (нем. Bundesrepublik Deutschland), ФРГ (нем. BRD) — государство в Западной Европе. Площадь территории — 357 021 км². Численность населения по переписи 2011 года — более 80 миллионов человек. [2][6].\n",
      "::lcode ukr Володи́мир Олекса́ндрович Зеле́нський (нар. 25 січня 1978, Кривий Ріг) — український державний діяч, політик, шоумен, актор, комік, режисер, продюсер та сценарист, шостий Президент України з 20 травня 2019 року.\n",
      "::lcode srp Сва људска бића рађају се слободна и једнака у достојанству и правима. Она су обдарена разумом и свешћу и треба једни према другима да поступају у духу братства.\n",
      "::lcode ara كندا (بالإنجليزية: Canada) هي دولة في أمريكا الشمالية تتألف من 10 مقاطعات وثلاثة أقاليم. تقع في القسم الشمالي من القارة وتمتد من المحيط الأطلسي في الشرق إلى المحيط الهادئ في الغرب وتمتد شمالاً في المحيط المتجمد الشمالي. كندا هي البلد الثاني عالمياً من حيث المساحة الكلية. كما أن حدود كندا المشتركة مع الولايات المتحدة من الجنوب والشمال الغربي هي الأطول في العالم.\n",
      "::lcode fas کالیفرنیا (به انگلیسی: California) ایالتی در غرب آمریکا بر کرانهٔ اقیانوس آرام است. مرکز آن ساکرامنتو و شهرهای مهم آن لس‌آنجلس، سن دیگو، سن خوزه و سان‌فرانسیسکو هستند.همچنین این ایالت پر جمعیت ترین ایالت امریکا است.\n",
      "::lcode uig ﻿ئامېرىكا قوشما شتاتلىرى بولسا شىمالىي ئامېرىكاغا جايلاشقان بىر دۆلەت. ئۇنىڭ پايتەختى بولسا ۋاشىنگتون، ئەڭ چوڭ شەھىرى بولسا نيۇيورك شەھىرى. دۆلەت تىلى بولسا ئېنگلىزتىلى. ھازىرقى زۇڭتۇڭ باراك ئوباما. بۇ دۆلەت ئەسلىدە ئەنگىلىيەنىڭ مۇستەملىكىسى بولۇپ ۋاشىنگىتوننىڭ رەھپەرلىكىدە 1776 يىلى 7 ئاينىڭ 4 كۇنى مۇستەقىل بولغان، يەر مەيدانى 9 مىلىيون 826 مىڭ 630 كۋادىرات كلومېتىر، نوپۇسى 306 مىللىيون 142 مىڭ، بۇلارنىڭ ئاسساسلىق دىنى خرىستىئان دىنى.\n",
      "::lcode amh ኢትዮጵያ ከዓለም ሶስቱ ትልቅ የአብርሃም ሀይማኖቶች ጋር ታሪካዊ ግንኙነት አላት።\n",
      "::lcode hin कैलिफ़ोर्निया शब्द का पहला अर्थ था जो क्षेत्र जहाँ आज बाहा कैलिफ़ोर्निया प्रायद्वीप, नेवाडा, यूटा और एरिज़ोना, नया मेक्सिको, और वायोमिंग के कई विभाग स्थित हैं।\n",
      "::lcode mar लंडन (इंग्लिश: London ) हे इंग्लंडचे व युनायटेड किंग्डमचे राजधानीचे व सर्वात मोठे शहर तसेच युरोपियन संघामधील सर्वात मोठे महानगर क्षेत्र आहे.\n",
      "::lcode nep यसको उचाइ समुन्द्र सतहबाट ८,८४८ मीटर (२९,०२८ फीट) छ। यो नेपालको सोलुखुम्बु जिल्लाको खुम्जुङ्ग गा. वि. स. मा पर्छ ।\n",
      "::lcode tam தமிழ்நாடு (Tamil Nadu) இந்தியாவின் 29 மாநிலங்களில் ஒன்றாகும். தமிழ்நாடு, தமிழகம் என்றும் பரவலாக அழைக்கப்படுகிறது.\n",
      "::lcode mal ഇന്ത്യയുടെ തെക്കുപടിഞ്ഞാറെ അറ്റത്തുള്ള സംസ്ഥാനമാണ് കേരളം.\n",
      "::lcode ori ଓଡ଼ିଶା ଭାରତର ପୂର୍ବ ଉପକୂଳରେ ଥିବା ଏକ ପ୍ରଶାସନିକ ରାଜ୍ୟ । ଏହାର ଉତ୍ତର-ପୂର୍ବରେ ପଶ୍ଚିମବଙ୍ଗ, ଉତ୍ତରରେ ଝାଡ଼ଖଣ୍ଡ, ପଶ୍ଚିମ ଓ ଉତ୍ତର-ପଶ୍ଚିମରେ ଛତିଶଗଡ଼, ଦକ୍ଷିଣ ଓ ଦକ୍ଷିଣ-ପଶ୍ଚିମରେ ଆନ୍ଧ୍ରପ୍ରଦେଶ ଅବସ୍ଥିତ । ଏହା ଆୟତନ ହିସାବରେ ନବମ ଓ ଜନସଂଖ୍ୟା ହିସାବରେ ଏଗାରତମ ରାଜ୍ୟ । ଓଡ଼ିଆ ଭାଷା ରାଜ୍ୟର ସରକାରୀ ଭାଷା । ୨୦୦୧ ଜନଗଣନା ଅନୁସାରେ ରାଜ୍ୟର ପ୍ରାୟ ୩୩.୨ ନିୟୁତ ଲୋକ ଓଡ଼ିଆ ଭାଷା ବ୍ୟବହାର କରନ୍ତି । \n",
      "::lcode zho 加拿大在一万四千年前即有原住民在此生活。\n",
      "::lcode heb כֹּל עוֹד בַּלֵּבָב פְּנִימָה נֶפֶשׁ יְהוּדִי הוֹמִיָּה וּלְפַאֲתֵי מִזְרָח, קָדִימָה, עַיִן לְצִיּוֹן צוֹפִיָּה, עוֹד לֹא אָבְדָה תִּקְוָתֵנוּ, הַתִּקְוָה בַּת שְׁנוֹת אַלְפַּיִם לִהְיוֹת עַם חָפְשִׁי בְּאַרְצֵנוּ, אֶרֶץ צִיּוֹן וִירוּשָׁלַיִם.\n",
      "::lcode yid דווקא איז אן העברעישער זשורנאל וואס באשרייבט די יידיש־שפראכיקע קולטור. עס איז דערשינען געווארן תמוז ה'תשס\"ז (יולי 2006).\n",
      "::lcode hye Տալնոեի շրջան (ուկր.՝ Тальнівський район), շրջան Ուկրաինայի Չերկասիի մարզում։ Ստեղծվել է 1923 թվականին։ Վարչական կենտրոնը՝ Տալնոե։ Աշխարհագրությունը Շրջանի տարածքի մակերեսը կազմում է 917 կմ²։ Բնակչություն\n",
      "::lcode tai มีประเทศอิสระ 2 ประเทศ คือ ซานมารีโนและนครรัฐวาติกัน เป็นดินแดนที่ล้อมรอบไปด้วยพื้นที่ของอิตาลี ในขณะที่เมืองกัมปีโอเนดีตาเลีย เป็นดินแดนส่วนแยกของอิตาลีที่ถูกล้อมรอบด้วยพื้นที่ประเทศสวิตเซอร์แลนด์\n",
      "북쪽에는 인도네시아와 동티모르, 파푸아 뉴기니, 북동쪽에는 솔로몬 제도와 바누아투, 누벨칼레도니, 그리고 남동쪽에는 뉴질랜드가 있다.\n",
      "ಬಾ ಇಲ್ಲಿ ಸಂಭವಿಸು ಇಂದೆನ್ನ ಹೃದಯದಲಿ ನಿತ್ಯವೂ ಅವತರಿಪ ಸತ್ಯಾವತಾರ ಮಣ್ಣಾಗಿ ಮರವಾಗಿ ಮಿಗವಾಗಿ ಕಗವಾಗೀ... ಮಣ್ಣಾಗಿ ಮರವಾಗಿ ಮಿಗವಾಗಿ ಕಗವಾಗಿ ಭವ ಭವದಿ ಭತಿಸಿಹೇ ಭವತಿ ದೂರ ನಿತ್ಯವೂ ಅವತರಿಪ ಸತ್ಯಾವತಾರ || ಬಾ ಇಲ್ಲಿ ||\n",
      "ვეპხის ტყაოსანი შოთა რუსთაველი ღმერთსი შემვედრე, ნუთუ კვლა დამხსნას სოფლისა შრომასა, ცეცხლს, წყალსა და მიწასა, ჰაერთა თანა მრომასა; მომცნეს ფრთენი და აღვფრინდე, მივჰხვდე მას ჩემსა ნდომასა, დღისით და ღამით ვჰხედვიდე მზისა ელვათა კრთომაასა.\n",
      "᚛ᚐᚅᚋ ᚋᚖᚂᚓᚌᚖᚋᚏᚔᚇ ᚋᚐᚉᚔ ᚍᚓᚉᚒᚋᚓᚅ᚜\n",
      "ᛁᚳ᛫ᛗᚨᚷ᛫ᚷᛚᚨᛋ᛫ᛖᚩᛏᚪᚾ᛫ᚩᚾᛞ᛫ᚻᛁᛏ᛫ᚾᛖ᛫ᚻᛖᚪᚱᛗᛁᚪᚧ᛫ᛗᛖ᛬\n",
      "𓊪𓏏𓍯𓃭𓐝𓇌𓋴\n",
      "チェコスロバキア\n",
      "ལྷ་ས་གྲོང་ཁྱེར\n",
      "ᓵᓕ ᓴᕕᐊᕐᔪᒃ ᐃᒻᒥᓂᒃ ᓂᓪᓕᕈᑎᖃᓲᖑᕗᖅ ᑕᐃᑦᓱᒪᓂᑕᑦᓴᔭᐅᓂᕋᕐᓱᓂ. ᐃᒻᒥᓂᓪᓗᑕᐅᖅ ᓂᓪᓕᕈᑎᖃᓱᖑᒻᒥᓱᓂ ᐅᓪᓗᒥᓂᑕᑦᓴᔭᐅᓂᕋᕐᓱᓂ.\n",
      "ⴰⵎⴰⴳⵔⴰⴷ 1 ⴰⵔ ⴷ ⵜⵜⵍⴰⵍⴰⵏ ⵎⵉⴷⴷⵏ ⴳⴰⵏ ⵉⵍⴻⵍⵍⵉⵜⵏ ⵎⴳⴰⴷⴷⴰⵏ ⵖ ⵡⴰⴷⴷⵓⵔ ⴷ ⵉⵣⵔⴼⴰⵏ, ⵢⵉⵍⵉ ⴰⴽⵯ ⴷⴰⵔⵙⵏ ⵓⵏⵍⵍⵉ ⴷ ⵓⴼⵔⴰⴽ, ⵉⵍⵍⴰ ⴼⵍⵍⴰ ⵙⵏ ⴰⴷ ⵜⵜⵎⵢⴰⵡⴰⵙⵏ ⵏⴳⵔⴰⵜⵙⵏ ⵙ ⵜⴰⴳⵎⴰⵜ.\n",
      "\n"
     ]
    }
   ],
   "source": [
    "# A file with text from different scripts and languages (marked by line-initial ::lcode <lcode>)\n",
    "# File location: https://github.com/isi-nlp/uroman/blob/master/uroman/mini-test/multi-script.txt\n",
    "\n",
    "input_filename  = 'test/multi-script.txt'\n",
    "\n",
    "with open(input_filename) as f:\n",
    "    print(f.read())"
   ]
  },
  {
   "cell_type": "code",
   "execution_count": 8,
   "id": "f4ebe325",
   "metadata": {},
   "outputs": [
    {
     "name": "stdout",
     "output_type": "stream",
     "text": [
      "::lcode deu Gruesse aus Bordeaux\n",
      "::lcode tur Istanbul, Tuerkiye'de yer alan shehir ve uelkenin 81 ilinden biri.\n",
      "::lcode eng We hold these truths to be self-evident, that all men are created equal, that they are endowed by their Creator with certain unalienable Rights, that among these are Life, Liberty and the pursuit of Happiness.\n",
      "::lcode ell To Los Andzeles (sta ispanika Los Angeles = Oi Angeloi) e sten Amerikanike arngo L.A., el ei) einai e deutere megalutere pole ton Enomenon Politeion apo apopse plethysmou, kathos kai ena apo ta semandikotera oikonomika, politistika epistemonika kai psychagogika kendra tou kosmou.\n",
      "::lcode rus Germaniya (nem. Deutschland), ofitsialnoye nazvaniye — Federativnaya Respublika Germaniya (nem. Bundesrepublik Deutschland), FRG (nem. BRD) — gosudarstvo v Zapadnoy Yevrope. Ploshchad territorii — 357 021 km². Chislennost naseleniya po perepisi 2011 goda — boleye 80 millionov chelovek. [2][6].\n",
      "::lcode ukr Volodymyr Oleksandrovych Zelensky (nar. 25 sichnya 1978, Kryvy Rih) — ukrayinsky derzhavny diyach, polityk, shoumen, aktor, komik, rezhyser, prodyuser ta stsenaryst, shosty Prezydent Ukrayiny z 20 travnya 2019 roku.\n",
      "::lcode srp Sva ljudska bitsha radjaju se slobodna i jednaka u dostojanstvu i pravima. Ona su obdarena razumom i sveshtshu i treba jedni prema drugima da postupaju u duhu bratstva.\n",
      "::lcode ara knda (balinjlyzya: Canada) hy dwla fy amryka alshmalya ttalf mn 10 mqat'at wthlatha aqalym. tq' fy alqsm alshmaly mn alqara wtmtd mn almhyt alatlsy fy alshrq ila almhyt alhadye fy alghrb wtmtd shmalan fy almhyt almtjmd alshmaly. knda hy albld althany 'almyan mn hyth almsaha alklya. kma an hdwd knda almshtrka m' alwlayat almthda mn aljnwb walshmal alghrby hy alatwl fy al'alm.\n",
      "::lcode fas kalifrnia (be anglisi: California) ialti dr ghrb amrika br kraneye aqianvs aram ast. mrkz an sakramntv v shhrhai mhm an lsanjls, sn digv, sn khvze v sanfransiskv hstnd.hmchnin in ialt pr jmit trin ialt amrika ast.\n",
      "::lcode uig amerika qoshma shtatliri bolsa shimaliy amerikagha jaylashqan bir doelet. uning paytexti bolsa washington, eng chong shehiri bolsa nyuyork shehiri. doelet tili bolsa engliztili. hazirqi zungtung barak obama. bu doelet eslide engiliening mustemlikisi bolup washingitonning rehperlikide 1776 yili 7 ayning 4 kuni musteqil bolghan, er meydani 9 miliyon 826 ming 630 kwadirat klometir, nopusi 306 milliyon 142 ming, bularning assasliq dini xristian dini.\n",
      "::lcode amh iteyopheyaa kaaalame sosetu teleqe yaaberehaame hayemaanotoche gaare taarikaawi genenyunate alaate.\n",
      "::lcode hin kailiforniyaa shabda kaa pahalaa artha thaa jo kssetra jahaam aaj baahaa kailiforniyaa praayadviip, nevaaddaa, yuuttaa aur erizonaa, nayaa meksiko, aur vaayomimg ke kaii vibhaag sthit haim.\n",
      "::lcode mar lamddan (imglish: London ) he imglamddace va yunaayattedd kimgddamace raajadhaaniice va sarvaat motthe shahar tasec yuropiyan samghaamadhiil sarvaat motthe mahaanagar kssetra aahe.\n",
      "::lcode nep yasako ucaai samundra satahabaatt 8,848 miittar (29,028 phiitt) cha. yo nepaalako solukhumbu jillaako khumjungga gaa. vi. sa. maa parcha .\n",
      "::lcode tam tamilnaadu (Tamil Nadu) intiyaavin 29 maanilangkalil onraakum. tamilnaadu, tamilakam enrum paravalaaka alaikkappadukiratu.\n",
      "::lcode mal intyayutte tekkupattinynyaarre arrrrattulllla samsthaanamaann keerallam.\n",
      "::lcode ori oddishaa bhaaratara puurba upakuullare thibaa eka prashaasanika raajya . ehaara uttara-puurbare pashcimabangga, uttarare jhaaddakhanndda, pashcima o uttara-pashcimare chatishagadda, dakssinna o dakssinna-pashcimare aandhrapradesha abasthita . ehaa aayatana hisaabare nabama o janasamkhyaa hisaabare egaaratama raajya . oddiaa bhaassaa raajyara sarakaarii bhaassaa . 2001 janagannanaa anusaare raajyara praaya 33.2 niyuta loka oddiaa bhaassaa byabahaara karanti . \n",
      "::lcode zho jianadazai14000nianqianjiyouyuanzhuminzaicishenghuo. \n",
      "::lcode heb kol 'od balevav penimah nefesh yehudi homiyah ulefa'ate mizerach, qadimah, 'ayin letsiyon tsofiyah, 'od lo avedah tiqvatenu, hatiqvah bat shenot 'alepayim liheyot 'am chafeshiy be'aretsenu, erets tsiyon virushalayim.\n",
      "::lcode yid duuka yz an hebreysher zhurnal was bashreybt dy eydysh-shfrachyke kultur. es yz dershynen gewarn smuz h'sshs\"z (yuly 2006).\n",
      "::lcode hye Talnoei shrjan (ukr., Talnivsky raion), shrjan Ukrainayi Cherkasii marzum. Steghtsvel e 1923 tvakanin. Varchakan kentrone, Talnoe. Ashkharhagrutyune Shrjani taratski makerese kazmum e 917 km². Bnakchutyun\n",
      "::lcode tai miiprathetitra 2 prathet khuee saanmaariinolaenkhanatwaatikan pendindaenthiilomroppaiduaiphueenthiikhongitaalii naiknathiimueangkampiionediitaalia pendindaensuanyaekkhongitaaliithiithuuklomropduaiphueenthiiprathetswitsoelaen\n",
      "bugjjogeneun indonesiawa dongtimoreu, papua nyugini, bugdongjjogeneun solromon jedowa banuatu, nubelkalredoni, geurigo namdongjjogeneun nyujilraendeuga issda.\n",
      "baa illi sambhavisu imdenna hrdayadali nityavuu avataripa satyaavataara mannnnaagi maravaagi migavaagi kagavaagii... mannnnaagi maravaagi migavaagi kagavaagi bhava bhavadi bhatisihee bhavati duura nityavuu avataripa satyaavataara || baa illi ||\n",
      "vepxis tqaosani shota rustaveli ghmertsi shemvedre, nutu kvla damxsnas sophlisa shromasa, tsetsxls, tsqalsa da mitsasa, haerta tana mromasa; momtsnes phrteni da aghvphrinde, mivhxvde mas chemsa ndomasa, dghisit da ghamit vhxedvide mzisa elvata krtomaasa.\n",
      "anm moilegoimrid maki vekumen\n",
      "ic mag glas eotan ond hit ne hearmiath me.\n",
      "ptolmys\n",
      "chekosurobakia\n",
      "lha·sa·grong·khyer\n",
      "saali safiaryok imminik nillirotiqasoongofoq taitsomanitatsayaonirarsoni. imminillotaoq nillirotiqasongommisoni ollominitatsayaonirarsoni.\n",
      "amagrad 1 ar d ttlalan middn gan ilellitn mgaddan gh waddur d izrfan, yili ak darsn unlli d ufrak, illa flla sn ad ttmyawasn ngratsn s tagmat.\n",
      "\n"
     ]
    }
   ],
   "source": [
    "# Romanization of a file with text from different scripts and languages\n",
    "# How many US states can you identify in the romanized Hindi (::lcode hin) sentence below?\n",
    "\n",
    "output_filename = 'test/multi-script.uroman.txt'\n",
    "\n",
    "uroman.romanize_file(input_filename=input_filename, output_filename=output_filename)\n",
    "\n",
    "with open(output_filename) as f:\n",
    "    print(f.read())"
   ]
  }
 ],
 "metadata": {
  "kernelspec": {
   "display_name": ".env",
   "language": "python",
   "name": "python3"
  },
  "language_info": {
   "codemirror_mode": {
    "name": "ipython",
    "version": 3
   },
   "file_extension": ".py",
   "mimetype": "text/x-python",
   "name": "python",
   "nbconvert_exporter": "python",
   "pygments_lexer": "ipython3",
   "version": "3.8.10"
  }
 },
 "nbformat": 4,
 "nbformat_minor": 5
}
